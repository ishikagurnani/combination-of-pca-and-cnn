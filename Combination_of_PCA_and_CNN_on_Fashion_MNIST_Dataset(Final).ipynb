{
  "nbformat": 4,
  "nbformat_minor": 0,
  "metadata": {
    "colab": {
      "name": "Combination-of-PCA-and-CNN-on-Fashion-MNIST-Dataset(Final).ipynb",
      "provenance": []
    },
    "kernelspec": {
      "name": "python3",
      "display_name": "Python 3"
    },
    "language_info": {
      "name": "python"
    }
  },
  "cells": [
    {
      "cell_type": "markdown",
      "metadata": {
        "id": "Zx8IHL1s3D5O"
      },
      "source": [
        "### Importing all the libraries needed."
      ]
    },
    {
      "cell_type": "code",
      "metadata": {
        "id": "_XzcGJjV8llh"
      },
      "source": [
        "import numpy as np\n",
        "import seaborn as sns; sns.set()\n",
        "import matplotlib.pyplot as plt\n",
        "import tensorflow as tf\n",
        "from tensorflow import keras\n",
        "from tensorflow.keras.models import Sequential, Model\n",
        "from tensorflow.keras.layers import Dense, Input, Dropout, Flatten\n",
        "from keras.layers import Conv1D, MaxPooling1D, Conv2D, MaxPooling2D\n",
        "from keras.layers.advanced_activations import LeakyReLU\n",
        "from tensorflow.keras.utils import to_categorical\n",
        "from tensorflow.keras.datasets import mnist, fashion_mnist\n",
        "from sklearn.preprocessing import MinMaxScaler\n",
        "from sklearn.model_selection import train_test_split\n",
        "from sklearn.decomposition import PCA"
      ],
      "execution_count": 1,
      "outputs": []
    },
    {
      "cell_type": "markdown",
      "metadata": {
        "id": "H0lWWhVU3MeS"
      },
      "source": [
        "### Loading the dataset and splitting them into training and testing."
      ]
    },
    {
      "cell_type": "code",
      "metadata": {
        "id": "APw_DqYU90kz"
      },
      "source": [
        "(X_train, y_train), (X_test, y_test) = fashion_mnist.load_data()"
      ],
      "execution_count": 2,
      "outputs": []
    },
    {
      "cell_type": "code",
      "metadata": {
        "colab": {
          "base_uri": "https://localhost:8080/"
        },
        "id": "A6YuFPLZ-Dap",
        "outputId": "c03d24d3-9159-4067-9c9a-c28e1388527b"
      },
      "source": [
        "print('Training Data Shape: ', X_train.shape, y_train.shape)\n",
        "print('Testing Data Shape: ', X_test.shape, y_test.shape)"
      ],
      "execution_count": 3,
      "outputs": [
        {
          "output_type": "stream",
          "text": [
            "Training Data Shape:  (60000, 28, 28) (60000,)\n",
            "Testing Data Shape:  (10000, 28, 28) (10000,)\n"
          ],
          "name": "stdout"
        }
      ]
    },
    {
      "cell_type": "markdown",
      "metadata": {
        "id": "9DoWeLT83XPv"
      },
      "source": [
        "### We have to reshape our dataset because we are going to work with PCA."
      ]
    },
    {
      "cell_type": "code",
      "metadata": {
        "colab": {
          "base_uri": "https://localhost:8080/"
        },
        "id": "EylFN5Mj-GWu",
        "outputId": "b144443e-4683-4a51-a1cf-9aa36cb95980"
      },
      "source": [
        "# X_train = X_train.reshape(-1, 28, 28, 1)\n",
        "# X_test = X_test.reshape(-1, 28, 28, 1)\n",
        "X_train = X_train.reshape(X_train.shape[0], 28*28)\n",
        "X_test = X_test.reshape(X_test.shape[0], 28*28)\n",
        "# X_train = X_train.reshape(-1, 784, 1)\n",
        "# X_test = X_test.reshape(-1, 784, 1)\n",
        "scaler = MinMaxScaler()\n",
        "X_train = scaler.fit_transform(X_train)\n",
        "X_test = scaler.fit_transform(X_test)\n",
        "\n",
        "\n",
        "print('Training Data Shape: ', X_train.shape, y_train.shape)\n",
        "print('Testing Data Shape: ', X_test.shape, y_test.shape)"
      ],
      "execution_count": 4,
      "outputs": [
        {
          "output_type": "stream",
          "text": [
            "Training Data Shape:  (60000, 784) (60000,)\n",
            "Testing Data Shape:  (10000, 784) (10000,)\n"
          ],
          "name": "stdout"
        }
      ]
    },
    {
      "cell_type": "markdown",
      "metadata": {
        "id": "PXrpvN563ke_"
      },
      "source": [
        "### PCA using 95% variance."
      ]
    },
    {
      "cell_type": "code",
      "metadata": {
        "colab": {
          "base_uri": "https://localhost:8080/"
        },
        "id": "Tg9CItbBy_Jy",
        "outputId": "cde50439-c932-45ef-9aea-4087f2d3c1da"
      },
      "source": [
        "pca = PCA(0.95) # 95% Variance\n",
        "X_train_pca = pca.fit_transform(X_train)\n",
        "X_test_pca = pca.transform(X_test)\n",
        "\n",
        "print('Training Data Shape: ', X_train_pca.shape, y_train.shape)\n",
        "print('Testing Data Shape: ', X_test_pca.shape, y_test.shape)"
      ],
      "execution_count": 5,
      "outputs": [
        {
          "output_type": "stream",
          "text": [
            "Training Data Shape:  (60000, 188) (60000,)\n",
            "Testing Data Shape:  (10000, 188) (10000,)\n"
          ],
          "name": "stdout"
        }
      ]
    },
    {
      "cell_type": "markdown",
      "metadata": {
        "id": "zeZEflQE3vgj"
      },
      "source": [
        "### Right now the dataset is in the format of int8 so we have to convert it to float32 before feeding it into the model. After that we are going to scale the value from 0 - 1 by dividing by 255."
      ]
    },
    {
      "cell_type": "code",
      "metadata": {
        "id": "rMgYav1p_iec"
      },
      "source": [
        "X_train_pca = X_train_pca.astype('float32')\n",
        "X_test_pca = X_test_pca.astype('float32')\n",
        "X_train_pca = X_train_pca / 255\n",
        "X_test_pca = X_test_pca / 255"
      ],
      "execution_count": 6,
      "outputs": []
    },
    {
      "cell_type": "markdown",
      "metadata": {
        "id": "Uxr9t1Ji4CLh"
      },
      "source": [
        "### Next, we are going to one hot encode the y_train and y_test using the to_categorical function."
      ]
    },
    {
      "cell_type": "code",
      "metadata": {
        "colab": {
          "base_uri": "https://localhost:8080/"
        },
        "id": "RScr0bT0_jhH",
        "outputId": "1d082230-52af-452b-b4cd-4646e4ad461b"
      },
      "source": [
        "y_train_encoded = to_categorical(y_train)\n",
        "y_test_encoded = to_categorical(y_test)\n",
        "\n",
        "# Test Print\n",
        "y_test_encoded"
      ],
      "execution_count": 7,
      "outputs": [
        {
          "output_type": "execute_result",
          "data": {
            "text/plain": [
              "array([[0., 0., 0., ..., 0., 0., 1.],\n",
              "       [0., 0., 1., ..., 0., 0., 0.],\n",
              "       [0., 1., 0., ..., 0., 0., 0.],\n",
              "       ...,\n",
              "       [0., 0., 0., ..., 0., 1., 0.],\n",
              "       [0., 1., 0., ..., 0., 0., 0.],\n",
              "       [0., 0., 0., ..., 0., 0., 0.]], dtype=float32)"
            ]
          },
          "metadata": {
            "tags": []
          },
          "execution_count": 7
        }
      ]
    },
    {
      "cell_type": "markdown",
      "metadata": {
        "id": "T3uggthU4KCU"
      },
      "source": [
        "### Reshaping the dataset so it could be feeded into Conv1D layers."
      ]
    },
    {
      "cell_type": "code",
      "metadata": {
        "id": "B3KjHVBR2VCq"
      },
      "source": [
        "X_train_pca = X_train_pca.reshape(-1, 188, 1)\n",
        "X_test_pca = X_test_pca.reshape(-1, 188, 1)"
      ],
      "execution_count": 8,
      "outputs": []
    },
    {
      "cell_type": "code",
      "metadata": {
        "colab": {
          "base_uri": "https://localhost:8080/"
        },
        "id": "1sXWEYU33CWQ",
        "outputId": "911bc247-ecf7-49ab-a913-b521b5dfa373"
      },
      "source": [
        "X_train_pca.shape, X_test_pca.shape"
      ],
      "execution_count": 9,
      "outputs": [
        {
          "output_type": "execute_result",
          "data": {
            "text/plain": [
              "((60000, 188, 1), (10000, 188, 1))"
            ]
          },
          "metadata": {
            "tags": []
          },
          "execution_count": 9
        }
      ]
    },
    {
      "cell_type": "markdown",
      "metadata": {
        "id": "irGI84b94TGa"
      },
      "source": [
        "### Now, we are going to split the training dataset into training and validation dataset. I have divided train and validation into 80 20 respectively."
      ]
    },
    {
      "cell_type": "code",
      "metadata": {
        "id": "pfBUePJK_rLg"
      },
      "source": [
        "X_train_pca, X_valid, train_label, valid_label = train_test_split(X_train_pca, y_train_encoded, test_size=0.2, random_state=13)"
      ],
      "execution_count": 10,
      "outputs": []
    },
    {
      "cell_type": "code",
      "metadata": {
        "colab": {
          "base_uri": "https://localhost:8080/"
        },
        "id": "tgB4c36FedRG",
        "outputId": "3920e246-23d2-4b40-e8ca-79c4e7594d5d"
      },
      "source": [
        "X_train_pca.shape, X_valid.shape, train_label.shape, valid_label.shape"
      ],
      "execution_count": 11,
      "outputs": [
        {
          "output_type": "execute_result",
          "data": {
            "text/plain": [
              "((48000, 188, 1), (12000, 188, 1), (48000, 10), (12000, 10))"
            ]
          },
          "metadata": {
            "tags": []
          },
          "execution_count": 11
        }
      ]
    },
    {
      "cell_type": "markdown",
      "metadata": {
        "id": "Hh_o-SWT4YA_"
      },
      "source": [
        "### This will be the part where modelling the data starts. I have used the batch size of 64 and 20 epochs."
      ]
    },
    {
      "cell_type": "code",
      "metadata": {
        "id": "7QAcDeT5-5Ln"
      },
      "source": [
        "batch_size = 64\n",
        "epochs = 40"
      ],
      "execution_count": 23,
      "outputs": []
    },
    {
      "cell_type": "markdown",
      "metadata": {
        "id": "iH9948NJ4f_7"
      },
      "source": [
        "### First we add our first convolutional layer using Conv1D. We are using Conv1D here because we are dealing with non-image dataset. Next we add the LeakyReLU because it's going to help the network learn non-linear decision boundary. Next would be the MaxPooling1D layer and then the last layer would be the Dense layer using the softmax function. After that would be the Dropout layer which helps us avoiding the problem of overfitting. "
      ]
    },
    {
      "cell_type": "code",
      "metadata": {
        "id": "6v9br0nI-fCf"
      },
      "source": [
        "fashion_model = Sequential()\n",
        "fashion_model.add(Conv1D(32, kernel_size=3, activation='relu', input_shape=(400, 1), padding='same'))\n",
        "fashion_model.add(LeakyReLU(alpha=0.1))\n",
        "fashion_model.add(MaxPooling1D(2, padding='same'))\n",
        "fashion_model.add(Dropout(0.25))\n",
        "fashion_model.add(Conv1D(64, kernel_size=3, activation='relu', padding='same'))\n",
        "fashion_model.add(LeakyReLU(alpha=0.1))\n",
        "fashion_model.add(MaxPooling1D(2, padding='same'))\n",
        "fashion_model.add(Dropout(0.25))\n",
        "fashion_model.add(Conv1D(128, kernel_size=3, activation='relu', padding='same'))\n",
        "fashion_model.add(LeakyReLU(alpha=0.1))\n",
        "fashion_model.add(MaxPooling1D(2, padding='same'))\n",
        "fashion_model.add(Dropout(0.4))\n",
        "fashion_model.add(Flatten())\n",
        "fashion_model.add(Dense(128, activation='relu'))\n",
        "fashion_model.add(LeakyReLU(alpha=0.1))\n",
        "fashion_model.add(Dropout(0.3))\n",
        "fashion_model.add(Dense(10, activation='softmax'))"
      ],
      "execution_count": 24,
      "outputs": []
    },
    {
      "cell_type": "markdown",
      "metadata": {
        "id": "eieVRp_i4n3p"
      },
      "source": [
        "### Now we are going to compile our model that we just made using Adam Optimizer as the optimizer and Categorical CrossEntropy as the loss function which is often used as a loss function for multi-class classification."
      ]
    },
    {
      "cell_type": "code",
      "metadata": {
        "id": "iyi1KiC8-u4u"
      },
      "source": [
        "fashion_model.compile(loss=keras.losses.categorical_crossentropy, optimizer=keras.optimizers.Adam(), metrics=['accuracy'])"
      ],
      "execution_count": 25,
      "outputs": []
    },
    {
      "cell_type": "markdown",
      "metadata": {
        "id": "rNtWXf7y4q3-"
      },
      "source": [
        "### Now we fit the model."
      ]
    },
    {
      "cell_type": "code",
      "metadata": {
        "colab": {
          "base_uri": "https://localhost:8080/"
        },
        "id": "bTjTQTKu_L6c",
        "outputId": "578fc69e-cc53-4450-a512-230c267edcde"
      },
      "source": [
        "fashion_train = fashion_model.fit(X_train_pca, train_label, batch_size=batch_size, epochs=epochs, verbose=1, validation_data=(X_valid, valid_label))"
      ],
      "execution_count": 26,
      "outputs": [
        {
          "output_type": "stream",
          "text": [
            "Epoch 1/40\n",
            "750/750 [==============================] - 40s 52ms/step - loss: 1.6505 - accuracy: 0.3791 - val_loss: 0.9777 - val_accuracy: 0.6581\n",
            "Epoch 2/40\n",
            "750/750 [==============================] - 39s 53ms/step - loss: 0.9594 - accuracy: 0.6493 - val_loss: 0.6944 - val_accuracy: 0.7586\n",
            "Epoch 3/40\n",
            "750/750 [==============================] - 39s 53ms/step - loss: 0.7894 - accuracy: 0.7119 - val_loss: 0.5939 - val_accuracy: 0.7870\n",
            "Epoch 4/40\n",
            "750/750 [==============================] - 39s 52ms/step - loss: 0.7078 - accuracy: 0.7411 - val_loss: 0.5662 - val_accuracy: 0.7942\n",
            "Epoch 5/40\n",
            "750/750 [==============================] - 40s 53ms/step - loss: 0.6593 - accuracy: 0.7591 - val_loss: 0.5380 - val_accuracy: 0.8031\n",
            "Epoch 6/40\n",
            "750/750 [==============================] - 39s 53ms/step - loss: 0.6292 - accuracy: 0.7710 - val_loss: 0.4873 - val_accuracy: 0.8194\n",
            "Epoch 7/40\n",
            "750/750 [==============================] - 39s 52ms/step - loss: 0.6000 - accuracy: 0.7830 - val_loss: 0.4817 - val_accuracy: 0.8257\n",
            "Epoch 8/40\n",
            "750/750 [==============================] - 39s 52ms/step - loss: 0.5816 - accuracy: 0.7888 - val_loss: 0.4489 - val_accuracy: 0.8368\n",
            "Epoch 9/40\n",
            "750/750 [==============================] - 40s 53ms/step - loss: 0.5662 - accuracy: 0.7938 - val_loss: 0.4339 - val_accuracy: 0.8418\n",
            "Epoch 10/40\n",
            "750/750 [==============================] - 39s 53ms/step - loss: 0.5456 - accuracy: 0.8024 - val_loss: 0.4293 - val_accuracy: 0.8425\n",
            "Epoch 11/40\n",
            "750/750 [==============================] - 39s 52ms/step - loss: 0.5354 - accuracy: 0.8032 - val_loss: 0.4334 - val_accuracy: 0.8421\n",
            "Epoch 12/40\n",
            "750/750 [==============================] - 40s 53ms/step - loss: 0.5260 - accuracy: 0.8080 - val_loss: 0.4164 - val_accuracy: 0.8470\n",
            "Epoch 13/40\n",
            "750/750 [==============================] - 40s 53ms/step - loss: 0.5150 - accuracy: 0.8119 - val_loss: 0.4225 - val_accuracy: 0.8465\n",
            "Epoch 14/40\n",
            "750/750 [==============================] - 39s 52ms/step - loss: 0.5057 - accuracy: 0.8119 - val_loss: 0.4041 - val_accuracy: 0.8485\n",
            "Epoch 15/40\n",
            "750/750 [==============================] - 40s 53ms/step - loss: 0.5000 - accuracy: 0.8179 - val_loss: 0.4043 - val_accuracy: 0.8490\n",
            "Epoch 16/40\n",
            "750/750 [==============================] - 39s 52ms/step - loss: 0.4895 - accuracy: 0.8211 - val_loss: 0.3991 - val_accuracy: 0.8517\n",
            "Epoch 17/40\n",
            "750/750 [==============================] - 40s 53ms/step - loss: 0.4820 - accuracy: 0.8243 - val_loss: 0.3950 - val_accuracy: 0.8537\n",
            "Epoch 18/40\n",
            "750/750 [==============================] - 39s 52ms/step - loss: 0.4813 - accuracy: 0.8217 - val_loss: 0.3918 - val_accuracy: 0.8544\n",
            "Epoch 19/40\n",
            "750/750 [==============================] - 39s 52ms/step - loss: 0.4677 - accuracy: 0.8288 - val_loss: 0.3822 - val_accuracy: 0.8571\n",
            "Epoch 20/40\n",
            "750/750 [==============================] - 39s 52ms/step - loss: 0.4669 - accuracy: 0.8267 - val_loss: 0.3873 - val_accuracy: 0.8550\n",
            "Epoch 21/40\n",
            "750/750 [==============================] - 39s 52ms/step - loss: 0.4612 - accuracy: 0.8302 - val_loss: 0.3835 - val_accuracy: 0.8583\n",
            "Epoch 22/40\n",
            "750/750 [==============================] - 39s 52ms/step - loss: 0.4537 - accuracy: 0.8327 - val_loss: 0.3795 - val_accuracy: 0.8588\n",
            "Epoch 23/40\n",
            "750/750 [==============================] - 40s 53ms/step - loss: 0.4497 - accuracy: 0.8349 - val_loss: 0.3732 - val_accuracy: 0.8630\n",
            "Epoch 24/40\n",
            "750/750 [==============================] - 40s 53ms/step - loss: 0.4451 - accuracy: 0.8365 - val_loss: 0.3824 - val_accuracy: 0.8588\n",
            "Epoch 25/40\n",
            "750/750 [==============================] - 40s 53ms/step - loss: 0.4385 - accuracy: 0.8357 - val_loss: 0.3724 - val_accuracy: 0.8624\n",
            "Epoch 26/40\n",
            "750/750 [==============================] - 40s 54ms/step - loss: 0.4348 - accuracy: 0.8379 - val_loss: 0.3757 - val_accuracy: 0.8608\n",
            "Epoch 27/40\n",
            "750/750 [==============================] - 40s 53ms/step - loss: 0.4276 - accuracy: 0.8413 - val_loss: 0.3667 - val_accuracy: 0.8639\n",
            "Epoch 28/40\n",
            "750/750 [==============================] - 39s 52ms/step - loss: 0.4311 - accuracy: 0.8411 - val_loss: 0.3687 - val_accuracy: 0.8639\n",
            "Epoch 29/40\n",
            "750/750 [==============================] - 39s 52ms/step - loss: 0.4258 - accuracy: 0.8424 - val_loss: 0.3632 - val_accuracy: 0.8657\n",
            "Epoch 30/40\n",
            "750/750 [==============================] - 39s 52ms/step - loss: 0.4211 - accuracy: 0.8443 - val_loss: 0.3709 - val_accuracy: 0.8635\n",
            "Epoch 31/40\n",
            "750/750 [==============================] - 39s 53ms/step - loss: 0.4193 - accuracy: 0.8457 - val_loss: 0.3634 - val_accuracy: 0.8643\n",
            "Epoch 32/40\n",
            "750/750 [==============================] - 40s 53ms/step - loss: 0.4148 - accuracy: 0.8468 - val_loss: 0.3603 - val_accuracy: 0.8667\n",
            "Epoch 33/40\n",
            "750/750 [==============================] - 39s 52ms/step - loss: 0.4132 - accuracy: 0.8466 - val_loss: 0.3565 - val_accuracy: 0.8683\n",
            "Epoch 34/40\n",
            "750/750 [==============================] - 40s 53ms/step - loss: 0.4107 - accuracy: 0.8459 - val_loss: 0.3619 - val_accuracy: 0.8671\n",
            "Epoch 35/40\n",
            "750/750 [==============================] - 39s 53ms/step - loss: 0.4046 - accuracy: 0.8516 - val_loss: 0.3608 - val_accuracy: 0.8671\n",
            "Epoch 36/40\n",
            "750/750 [==============================] - 39s 52ms/step - loss: 0.3997 - accuracy: 0.8494 - val_loss: 0.3628 - val_accuracy: 0.8671\n",
            "Epoch 37/40\n",
            "750/750 [==============================] - 39s 52ms/step - loss: 0.4027 - accuracy: 0.8510 - val_loss: 0.3517 - val_accuracy: 0.8699\n",
            "Epoch 38/40\n",
            "750/750 [==============================] - 39s 52ms/step - loss: 0.4017 - accuracy: 0.8517 - val_loss: 0.3508 - val_accuracy: 0.8702\n",
            "Epoch 39/40\n",
            "750/750 [==============================] - 39s 52ms/step - loss: 0.3898 - accuracy: 0.8557 - val_loss: 0.3517 - val_accuracy: 0.8714\n",
            "Epoch 40/40\n",
            "750/750 [==============================] - 39s 52ms/step - loss: 0.3890 - accuracy: 0.8556 - val_loss: 0.3523 - val_accuracy: 0.8702\n"
          ],
          "name": "stdout"
        }
      ]
    },
    {
      "cell_type": "code",
      "metadata": {
        "colab": {
          "base_uri": "https://localhost:8080/"
        },
        "id": "GMDIqpam-zYB",
        "outputId": "3ede6484-5db2-496d-9cff-56cae8aac814"
      },
      "source": [
        "fashion_model.summary()"
      ],
      "execution_count": 27,
      "outputs": [
        {
          "output_type": "stream",
          "text": [
            "Model: \"sequential_1\"\n",
            "_________________________________________________________________\n",
            "Layer (type)                 Output Shape              Param #   \n",
            "=================================================================\n",
            "module_wrapper_10 (ModuleWra (None, 188, 32)           128       \n",
            "_________________________________________________________________\n",
            "module_wrapper_11 (ModuleWra (None, 188, 32)           0         \n",
            "_________________________________________________________________\n",
            "module_wrapper_12 (ModuleWra (None, 94, 32)            0         \n",
            "_________________________________________________________________\n",
            "dropout_4 (Dropout)          (None, 94, 32)            0         \n",
            "_________________________________________________________________\n",
            "module_wrapper_13 (ModuleWra (None, 94, 64)            6208      \n",
            "_________________________________________________________________\n",
            "module_wrapper_14 (ModuleWra (None, 94, 64)            0         \n",
            "_________________________________________________________________\n",
            "module_wrapper_15 (ModuleWra (None, 47, 64)            0         \n",
            "_________________________________________________________________\n",
            "dropout_5 (Dropout)          (None, 47, 64)            0         \n",
            "_________________________________________________________________\n",
            "module_wrapper_16 (ModuleWra (None, 47, 128)           24704     \n",
            "_________________________________________________________________\n",
            "module_wrapper_17 (ModuleWra (None, 47, 128)           0         \n",
            "_________________________________________________________________\n",
            "module_wrapper_18 (ModuleWra (None, 24, 128)           0         \n",
            "_________________________________________________________________\n",
            "dropout_6 (Dropout)          (None, 24, 128)           0         \n",
            "_________________________________________________________________\n",
            "flatten_1 (Flatten)          (None, 3072)              0         \n",
            "_________________________________________________________________\n",
            "dense_2 (Dense)              (None, 128)               393344    \n",
            "_________________________________________________________________\n",
            "module_wrapper_19 (ModuleWra (None, 128)               0         \n",
            "_________________________________________________________________\n",
            "dropout_7 (Dropout)          (None, 128)               0         \n",
            "_________________________________________________________________\n",
            "dense_3 (Dense)              (None, 10)                1290      \n",
            "=================================================================\n",
            "Total params: 425,674\n",
            "Trainable params: 425,674\n",
            "Non-trainable params: 0\n",
            "_________________________________________________________________\n"
          ],
          "name": "stdout"
        }
      ]
    },
    {
      "cell_type": "markdown",
      "metadata": {
        "id": "A3IKAq7G41Kp"
      },
      "source": [
        "### We evaluate the model to see how our model works on the testing dataset. The results that I've got is quite impressive. The total loss is 0.3680 and the accuracy of 0.8643."
      ]
    },
    {
      "cell_type": "code",
      "metadata": {
        "colab": {
          "base_uri": "https://localhost:8080/"
        },
        "id": "vxvvStCjFeYQ",
        "outputId": "07afd9eb-3890-4486-841b-855485ea59f8"
      },
      "source": [
        "evaluation = fashion_model.evaluate(X_test_pca, y_test_encoded, verbose=1)"
      ],
      "execution_count": 28,
      "outputs": [
        {
          "output_type": "stream",
          "text": [
            "313/313 [==============================] - 3s 8ms/step - loss: 0.3680 - accuracy: 0.8643\n"
          ],
          "name": "stdout"
        }
      ]
    },
    {
      "cell_type": "code",
      "metadata": {
        "colab": {
          "base_uri": "https://localhost:8080/"
        },
        "id": "_WNo88dnHPog",
        "outputId": "89f83c94-585e-41cd-ae84-53d7bb464188"
      },
      "source": [
        "print('Test Loss: ', evaluation[0])\n",
        "print('Test Accuracy: ', evaluation[1])"
      ],
      "execution_count": 29,
      "outputs": [
        {
          "output_type": "stream",
          "text": [
            "Test Loss:  0.36799177527427673\n",
            "Test Accuracy:  0.864300012588501\n"
          ],
          "name": "stdout"
        }
      ]
    },
    {
      "cell_type": "markdown",
      "metadata": {
        "id": "WW-l6mix5AFd"
      },
      "source": [
        "### Now let's plot the loss and accuracy plots for training and validation to see the results visually."
      ]
    },
    {
      "cell_type": "code",
      "metadata": {
        "colab": {
          "base_uri": "https://localhost:8080/",
          "height": 551
        },
        "id": "17ULBvzw4kjJ",
        "outputId": "08eab503-871e-4315-822d-fdf03e0612a6"
      },
      "source": [
        "accuracy = fashion_train.history['accuracy']\n",
        "val_accuracy = fashion_train.history['val_accuracy']\n",
        "loss = fashion_train.history['loss']\n",
        "val_loss = fashion_train.history['val_loss']\n",
        "\n",
        "epochs = range(len(accuracy))\n",
        "plt.plot(epochs, accuracy, 'bo', label='Training Accuracy')\n",
        "plt.plot(epochs, val_accuracy, 'b', label='Validation Accuracy')\n",
        "plt.title('Training & Validation Accuracy')\n",
        "plt.legend()\n",
        "plt.figure()\n",
        "plt.plot(epochs, loss, 'bo', label='Training Loss')\n",
        "plt.plot(epochs, val_loss, 'b', label='Validation Loss')\n",
        "plt.title('Training & Validation Loss')\n",
        "plt.legend()\n",
        "plt.show()"
      ],
      "execution_count": 30,
      "outputs": [
        {
          "output_type": "display_data",
          "data": {
            "image/png": "[encoded data removed]",
            "text/plain": [
              "<Figure size 432x288 with 1 Axes>"
            ]
          },
          "metadata": {
            "tags": [],
            "needs_background": "light"
          }
        },
        {
          "output_type": "display_data",
          "data": {
            "image/png": "[encoded data removed]",
            "text/plain": [
              "<Figure size 432x288 with 1 Axes>"
            ]
          },
          "metadata": {
            "tags": [],
            "needs_background": "light"
          }
        }
      ]
    },
    {
      "cell_type": "markdown",
      "metadata": {
        "id": "OmnNdPmk5Htp"
      },
      "source": [
        "### Now it's the time for prediction. We have a 87% of accuracy."
      ]
    },
    {
      "cell_type": "code",
      "metadata": {
        "id": "iKZG6ySB4tyH"
      },
      "source": [
        "predicted = fashion_model.predict(X_test_pca)\n",
        "predicted = np.argmax(np.round(predicted), axis=1)"
      ],
      "execution_count": 31,
      "outputs": []
    },
    {
      "cell_type": "code",
      "metadata": {
        "colab": {
          "base_uri": "https://localhost:8080/"
        },
        "id": "hW9MOPFw4zhe",
        "outputId": "9c0580e9-0009-4414-d7a8-dc9c4ce2ad50"
      },
      "source": [
        "from sklearn.metrics import classification_report\n",
        "class_number = [\"Class {}\".format(i) for i in range(10)]\n",
        "print(classification_report(y_test, predicted, target_names=class_number))"
      ],
      "execution_count": 32,
      "outputs": [
        {
          "output_type": "stream",
          "text": [
            "              precision    recall  f1-score   support\n",
            "\n",
            "     Class 0       0.56      0.92      0.69      1000\n",
            "     Class 1       1.00      0.96      0.98      1000\n",
            "     Class 2       0.81      0.74      0.77      1000\n",
            "     Class 3       0.90      0.86      0.88      1000\n",
            "     Class 4       0.81      0.75      0.78      1000\n",
            "     Class 5       0.98      0.91      0.94      1000\n",
            "     Class 6       0.79      0.49      0.60      1000\n",
            "     Class 7       0.90      0.96      0.93      1000\n",
            "     Class 8       0.96      0.96      0.96      1000\n",
            "     Class 9       0.95      0.94      0.95      1000\n",
            "\n",
            "    accuracy                           0.85     10000\n",
            "   macro avg       0.87      0.85      0.85     10000\n",
            "weighted avg       0.87      0.85      0.85     10000\n",
            "\n"
          ],
          "name": "stdout"
        }
      ]
    },
    {
      "cell_type": "markdown",
      "metadata": {
        "id": "LQ4Jg2b35TFe"
      },
      "source": [
        "### Here we visualize the correct predictions made by the model."
      ]
    },
    {
      "cell_type": "code",
      "metadata": {
        "colab": {
          "base_uri": "https://localhost:8080/",
          "height": 297
        },
        "id": "x7fYR6-m4-CU",
        "outputId": "aa9e24b8-7a0a-48e2-d7ff-66d022b0da72"
      },
      "source": [
        "correct = np.where(predicted==y_test)[0]\n",
        "\n",
        "for i, correct in enumerate(correct[:9]):\n",
        "    plt.subplot(3,3,i+1)\n",
        "    plt.imshow(X_test[correct].reshape(28,28), cmap='gray', interpolation='none')\n",
        "    plt.title(\"Predicted {}, Class {}\".format(predicted[correct], y_test[correct]))\n",
        "    plt.tight_layout()"
      ],
      "execution_count": 33,
      "outputs": [
        {
          "output_type": "display_data",
          "data": {
            "image/png": "[encoded data removed]",
            "text/plain": [
              "<Figure size 432x288 with 9 Axes>"
            ]
          },
          "metadata": {
            "tags": [],
            "needs_background": "light"
          }
        }
      ]
    }
  ]
}