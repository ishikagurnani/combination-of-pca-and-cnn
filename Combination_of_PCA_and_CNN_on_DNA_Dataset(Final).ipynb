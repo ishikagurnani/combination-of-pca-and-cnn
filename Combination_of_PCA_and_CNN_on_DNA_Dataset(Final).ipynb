{
  "nbformat": 4,
  "nbformat_minor": 0,
  "metadata": {
    "colab": {
      "name": "Combination-of-PCA-and-CNN-on-DNA-Dataset(Final).ipynb",
      "provenance": []
    },
    "kernelspec": {
      "name": "python3",
      "display_name": "Python 3"
    },
    "language_info": {
      "name": "python"
    }
  },
  "cells": [
    {
      "cell_type": "markdown",
      "metadata": {
        "id": "1BRBke8U7eP7"
      },
      "source": [
        "### Importing all the libraries needed."
      ]
    },
    {
      "cell_type": "code",
      "metadata": {
        "id": "qIk8BV2I3koD"
      },
      "source": [
        "import numpy as np\n",
        "import pandas as pd\n",
        "from tensorflow.keras.utils import to_categorical\n",
        "import matplotlib.pyplot as plt\n",
        "from sklearn.model_selection import train_test_split\n",
        "from sklearn.metrics import classification_report\n",
        "\n",
        "import keras\n",
        "from keras.models import Sequential, Input, Model\n",
        "from keras.layers import Dense, Dropout, Flatten\n",
        "from keras.layers import Conv1D, MaxPooling1D\n",
        "from keras.layers.normalization import BatchNormalization\n",
        "from keras.layers.advanced_activations import LeakyReLU\n",
        "from keras.constraints import max_norm"
      ],
      "execution_count": 1,
      "outputs": []
    },
    {
      "cell_type": "markdown",
      "metadata": {
        "id": "8Sp_WbWw7joT"
      },
      "source": [
        "### Read the rawdata.csv dataset using pandas read_csv()."
      ]
    },
    {
      "cell_type": "code",
      "metadata": {
        "colab": {
          "base_uri": "https://localhost:8080/",
          "height": 253
        },
        "id": "wyyoyhNAnjAy",
        "outputId": "d994c9d6-b04b-41bf-e687-408dc7b51a7b"
      },
      "source": [
        "dataset = pd.read_csv('rawdata.csv')\n",
        "dataset.head()"
      ],
      "execution_count": 2,
      "outputs": [
        {
          "output_type": "execute_result",
          "data": {
            "text/html": [
              "<div>\n",
              "<style scoped>\n",
              "    .dataframe tbody tr th:only-of-type {\n",
              "        vertical-align: middle;\n",
              "    }\n",
              "\n",
              "    .dataframe tbody tr th {\n",
              "        vertical-align: top;\n",
              "    }\n",
              "\n",
              "    .dataframe thead th {\n",
              "        text-align: right;\n",
              "    }\n",
              "</style>\n",
              "<table border=\"1\" class=\"dataframe\">\n",
              "  <thead>\n",
              "    <tr style=\"text-align: right;\">\n",
              "      <th></th>\n",
              "      <th>SAMPLE_ID</th>\n",
              "      <th>snp_0</th>\n",
              "      <th>snp_1</th>\n",
              "      <th>snp_2</th>\n",
              "      <th>snp_3</th>\n",
              "      <th>snp_4</th>\n",
              "      <th>snp_5</th>\n",
              "      <th>snp_6</th>\n",
              "      <th>snp_7</th>\n",
              "      <th>snp_8</th>\n",
              "      <th>snp_9</th>\n",
              "      <th>snp_10</th>\n",
              "      <th>snp_11</th>\n",
              "      <th>snp_12</th>\n",
              "      <th>snp_13</th>\n",
              "      <th>snp_14</th>\n",
              "      <th>snp_15</th>\n",
              "      <th>snp_16</th>\n",
              "      <th>snp_17</th>\n",
              "      <th>snp_18</th>\n",
              "      <th>snp_19</th>\n",
              "      <th>snp_20</th>\n",
              "      <th>snp_21</th>\n",
              "      <th>snp_22</th>\n",
              "      <th>snp_23</th>\n",
              "      <th>snp_24</th>\n",
              "      <th>snp_25</th>\n",
              "      <th>snp_26</th>\n",
              "      <th>snp_27</th>\n",
              "      <th>snp_28</th>\n",
              "      <th>snp_29</th>\n",
              "      <th>snp_30</th>\n",
              "      <th>snp_31</th>\n",
              "      <th>snp_32</th>\n",
              "      <th>snp_33</th>\n",
              "      <th>snp_34</th>\n",
              "      <th>snp_35</th>\n",
              "      <th>snp_36</th>\n",
              "      <th>snp_37</th>\n",
              "      <th>snp_38</th>\n",
              "      <th>...</th>\n",
              "      <th>snp_9962</th>\n",
              "      <th>snp_9963</th>\n",
              "      <th>snp_9964</th>\n",
              "      <th>snp_9965</th>\n",
              "      <th>snp_9966</th>\n",
              "      <th>snp_9967</th>\n",
              "      <th>snp_9968</th>\n",
              "      <th>snp_9969</th>\n",
              "      <th>snp_9970</th>\n",
              "      <th>snp_9971</th>\n",
              "      <th>snp_9972</th>\n",
              "      <th>snp_9973</th>\n",
              "      <th>snp_9974</th>\n",
              "      <th>snp_9975</th>\n",
              "      <th>snp_9976</th>\n",
              "      <th>snp_9977</th>\n",
              "      <th>snp_9978</th>\n",
              "      <th>snp_9979</th>\n",
              "      <th>snp_9980</th>\n",
              "      <th>snp_9981</th>\n",
              "      <th>snp_9982</th>\n",
              "      <th>snp_9983</th>\n",
              "      <th>snp_9984</th>\n",
              "      <th>snp_9985</th>\n",
              "      <th>snp_9986</th>\n",
              "      <th>snp_9987</th>\n",
              "      <th>snp_9988</th>\n",
              "      <th>snp_9989</th>\n",
              "      <th>snp_9990</th>\n",
              "      <th>snp_9991</th>\n",
              "      <th>snp_9992</th>\n",
              "      <th>snp_9993</th>\n",
              "      <th>snp_9994</th>\n",
              "      <th>snp_9995</th>\n",
              "      <th>snp_9996</th>\n",
              "      <th>snp_9997</th>\n",
              "      <th>snp_9998</th>\n",
              "      <th>snp_9999</th>\n",
              "      <th>snp_10000</th>\n",
              "      <th>STATUS</th>\n",
              "    </tr>\n",
              "  </thead>\n",
              "  <tbody>\n",
              "    <tr>\n",
              "      <th>0</th>\n",
              "      <td>HCB181</td>\n",
              "      <td>1</td>\n",
              "      <td>0</td>\n",
              "      <td>0</td>\n",
              "      <td>1</td>\n",
              "      <td>1</td>\n",
              "      <td>2</td>\n",
              "      <td>2</td>\n",
              "      <td>2</td>\n",
              "      <td>2</td>\n",
              "      <td>2</td>\n",
              "      <td>2</td>\n",
              "      <td>1</td>\n",
              "      <td>2</td>\n",
              "      <td>2</td>\n",
              "      <td>2</td>\n",
              "      <td>2</td>\n",
              "      <td>2</td>\n",
              "      <td>2</td>\n",
              "      <td>2</td>\n",
              "      <td>0</td>\n",
              "      <td>0</td>\n",
              "      <td>2</td>\n",
              "      <td>2</td>\n",
              "      <td>2</td>\n",
              "      <td>2</td>\n",
              "      <td>1</td>\n",
              "      <td>1</td>\n",
              "      <td>2</td>\n",
              "      <td>2</td>\n",
              "      <td>2</td>\n",
              "      <td>2</td>\n",
              "      <td>2</td>\n",
              "      <td>2</td>\n",
              "      <td>0</td>\n",
              "      <td>0</td>\n",
              "      <td>0</td>\n",
              "      <td>0</td>\n",
              "      <td>2</td>\n",
              "      <td>2</td>\n",
              "      <td>...</td>\n",
              "      <td>1</td>\n",
              "      <td>2</td>\n",
              "      <td>2</td>\n",
              "      <td>1</td>\n",
              "      <td>2</td>\n",
              "      <td>1</td>\n",
              "      <td>2</td>\n",
              "      <td>2</td>\n",
              "      <td>1</td>\n",
              "      <td>2</td>\n",
              "      <td>2</td>\n",
              "      <td>1</td>\n",
              "      <td>2</td>\n",
              "      <td>2</td>\n",
              "      <td>2</td>\n",
              "      <td>1</td>\n",
              "      <td>2</td>\n",
              "      <td>2</td>\n",
              "      <td>2</td>\n",
              "      <td>2</td>\n",
              "      <td>2</td>\n",
              "      <td>2</td>\n",
              "      <td>2</td>\n",
              "      <td>2</td>\n",
              "      <td>2</td>\n",
              "      <td>2</td>\n",
              "      <td>2</td>\n",
              "      <td>2</td>\n",
              "      <td>1</td>\n",
              "      <td>1</td>\n",
              "      <td>2</td>\n",
              "      <td>2</td>\n",
              "      <td>2</td>\n",
              "      <td>1</td>\n",
              "      <td>2</td>\n",
              "      <td>1</td>\n",
              "      <td>2</td>\n",
              "      <td>1</td>\n",
              "      <td>2</td>\n",
              "      <td>1</td>\n",
              "    </tr>\n",
              "    <tr>\n",
              "      <th>1</th>\n",
              "      <td>HCB182</td>\n",
              "      <td>1</td>\n",
              "      <td>0</td>\n",
              "      <td>0</td>\n",
              "      <td>1</td>\n",
              "      <td>1</td>\n",
              "      <td>2</td>\n",
              "      <td>2</td>\n",
              "      <td>1</td>\n",
              "      <td>2</td>\n",
              "      <td>2</td>\n",
              "      <td>2</td>\n",
              "      <td>1</td>\n",
              "      <td>2</td>\n",
              "      <td>1</td>\n",
              "      <td>2</td>\n",
              "      <td>2</td>\n",
              "      <td>2</td>\n",
              "      <td>2</td>\n",
              "      <td>2</td>\n",
              "      <td>0</td>\n",
              "      <td>0</td>\n",
              "      <td>2</td>\n",
              "      <td>2</td>\n",
              "      <td>2</td>\n",
              "      <td>2</td>\n",
              "      <td>2</td>\n",
              "      <td>2</td>\n",
              "      <td>1</td>\n",
              "      <td>1</td>\n",
              "      <td>1</td>\n",
              "      <td>2</td>\n",
              "      <td>0</td>\n",
              "      <td>0</td>\n",
              "      <td>0</td>\n",
              "      <td>0</td>\n",
              "      <td>0</td>\n",
              "      <td>0</td>\n",
              "      <td>2</td>\n",
              "      <td>2</td>\n",
              "      <td>...</td>\n",
              "      <td>1</td>\n",
              "      <td>2</td>\n",
              "      <td>2</td>\n",
              "      <td>1</td>\n",
              "      <td>2</td>\n",
              "      <td>1</td>\n",
              "      <td>2</td>\n",
              "      <td>2</td>\n",
              "      <td>1</td>\n",
              "      <td>2</td>\n",
              "      <td>2</td>\n",
              "      <td>2</td>\n",
              "      <td>2</td>\n",
              "      <td>2</td>\n",
              "      <td>2</td>\n",
              "      <td>1</td>\n",
              "      <td>2</td>\n",
              "      <td>2</td>\n",
              "      <td>2</td>\n",
              "      <td>1</td>\n",
              "      <td>2</td>\n",
              "      <td>1</td>\n",
              "      <td>2</td>\n",
              "      <td>2</td>\n",
              "      <td>2</td>\n",
              "      <td>2</td>\n",
              "      <td>2</td>\n",
              "      <td>2</td>\n",
              "      <td>2</td>\n",
              "      <td>1</td>\n",
              "      <td>1</td>\n",
              "      <td>1</td>\n",
              "      <td>2</td>\n",
              "      <td>2</td>\n",
              "      <td>2</td>\n",
              "      <td>1</td>\n",
              "      <td>2</td>\n",
              "      <td>2</td>\n",
              "      <td>2</td>\n",
              "      <td>2</td>\n",
              "    </tr>\n",
              "    <tr>\n",
              "      <th>2</th>\n",
              "      <td>HCB183</td>\n",
              "      <td>1</td>\n",
              "      <td>0</td>\n",
              "      <td>0</td>\n",
              "      <td>1</td>\n",
              "      <td>2</td>\n",
              "      <td>2</td>\n",
              "      <td>2</td>\n",
              "      <td>1</td>\n",
              "      <td>2</td>\n",
              "      <td>2</td>\n",
              "      <td>2</td>\n",
              "      <td>1</td>\n",
              "      <td>2</td>\n",
              "      <td>1</td>\n",
              "      <td>1</td>\n",
              "      <td>2</td>\n",
              "      <td>2</td>\n",
              "      <td>2</td>\n",
              "      <td>2</td>\n",
              "      <td>0</td>\n",
              "      <td>0</td>\n",
              "      <td>2</td>\n",
              "      <td>2</td>\n",
              "      <td>2</td>\n",
              "      <td>2</td>\n",
              "      <td>1</td>\n",
              "      <td>2</td>\n",
              "      <td>1</td>\n",
              "      <td>2</td>\n",
              "      <td>1</td>\n",
              "      <td>2</td>\n",
              "      <td>2</td>\n",
              "      <td>2</td>\n",
              "      <td>0</td>\n",
              "      <td>0</td>\n",
              "      <td>0</td>\n",
              "      <td>0</td>\n",
              "      <td>2</td>\n",
              "      <td>2</td>\n",
              "      <td>...</td>\n",
              "      <td>1</td>\n",
              "      <td>2</td>\n",
              "      <td>2</td>\n",
              "      <td>2</td>\n",
              "      <td>2</td>\n",
              "      <td>1</td>\n",
              "      <td>2</td>\n",
              "      <td>2</td>\n",
              "      <td>1</td>\n",
              "      <td>2</td>\n",
              "      <td>2</td>\n",
              "      <td>1</td>\n",
              "      <td>2</td>\n",
              "      <td>2</td>\n",
              "      <td>2</td>\n",
              "      <td>2</td>\n",
              "      <td>2</td>\n",
              "      <td>2</td>\n",
              "      <td>2</td>\n",
              "      <td>2</td>\n",
              "      <td>2</td>\n",
              "      <td>2</td>\n",
              "      <td>2</td>\n",
              "      <td>1</td>\n",
              "      <td>2</td>\n",
              "      <td>2</td>\n",
              "      <td>2</td>\n",
              "      <td>2</td>\n",
              "      <td>1</td>\n",
              "      <td>1</td>\n",
              "      <td>2</td>\n",
              "      <td>2</td>\n",
              "      <td>2</td>\n",
              "      <td>1</td>\n",
              "      <td>2</td>\n",
              "      <td>2</td>\n",
              "      <td>2</td>\n",
              "      <td>1</td>\n",
              "      <td>2</td>\n",
              "      <td>2</td>\n",
              "    </tr>\n",
              "    <tr>\n",
              "      <th>3</th>\n",
              "      <td>HCB184</td>\n",
              "      <td>1</td>\n",
              "      <td>0</td>\n",
              "      <td>0</td>\n",
              "      <td>1</td>\n",
              "      <td>1</td>\n",
              "      <td>2</td>\n",
              "      <td>2</td>\n",
              "      <td>1</td>\n",
              "      <td>2</td>\n",
              "      <td>2</td>\n",
              "      <td>2</td>\n",
              "      <td>1</td>\n",
              "      <td>1</td>\n",
              "      <td>2</td>\n",
              "      <td>2</td>\n",
              "      <td>2</td>\n",
              "      <td>2</td>\n",
              "      <td>2</td>\n",
              "      <td>2</td>\n",
              "      <td>0</td>\n",
              "      <td>0</td>\n",
              "      <td>2</td>\n",
              "      <td>2</td>\n",
              "      <td>2</td>\n",
              "      <td>2</td>\n",
              "      <td>1</td>\n",
              "      <td>1</td>\n",
              "      <td>2</td>\n",
              "      <td>2</td>\n",
              "      <td>2</td>\n",
              "      <td>2</td>\n",
              "      <td>2</td>\n",
              "      <td>2</td>\n",
              "      <td>0</td>\n",
              "      <td>0</td>\n",
              "      <td>0</td>\n",
              "      <td>0</td>\n",
              "      <td>2</td>\n",
              "      <td>2</td>\n",
              "      <td>...</td>\n",
              "      <td>1</td>\n",
              "      <td>1</td>\n",
              "      <td>1</td>\n",
              "      <td>1</td>\n",
              "      <td>2</td>\n",
              "      <td>1</td>\n",
              "      <td>2</td>\n",
              "      <td>1</td>\n",
              "      <td>1</td>\n",
              "      <td>2</td>\n",
              "      <td>2</td>\n",
              "      <td>1</td>\n",
              "      <td>2</td>\n",
              "      <td>2</td>\n",
              "      <td>2</td>\n",
              "      <td>2</td>\n",
              "      <td>2</td>\n",
              "      <td>1</td>\n",
              "      <td>2</td>\n",
              "      <td>2</td>\n",
              "      <td>2</td>\n",
              "      <td>2</td>\n",
              "      <td>2</td>\n",
              "      <td>2</td>\n",
              "      <td>2</td>\n",
              "      <td>2</td>\n",
              "      <td>2</td>\n",
              "      <td>1</td>\n",
              "      <td>1</td>\n",
              "      <td>2</td>\n",
              "      <td>2</td>\n",
              "      <td>2</td>\n",
              "      <td>2</td>\n",
              "      <td>1</td>\n",
              "      <td>2</td>\n",
              "      <td>2</td>\n",
              "      <td>2</td>\n",
              "      <td>1</td>\n",
              "      <td>2</td>\n",
              "      <td>2</td>\n",
              "    </tr>\n",
              "    <tr>\n",
              "      <th>4</th>\n",
              "      <td>HCB185</td>\n",
              "      <td>1</td>\n",
              "      <td>0</td>\n",
              "      <td>0</td>\n",
              "      <td>1</td>\n",
              "      <td>1</td>\n",
              "      <td>2</td>\n",
              "      <td>2</td>\n",
              "      <td>1</td>\n",
              "      <td>2</td>\n",
              "      <td>2</td>\n",
              "      <td>2</td>\n",
              "      <td>2</td>\n",
              "      <td>2</td>\n",
              "      <td>2</td>\n",
              "      <td>2</td>\n",
              "      <td>2</td>\n",
              "      <td>2</td>\n",
              "      <td>2</td>\n",
              "      <td>2</td>\n",
              "      <td>2</td>\n",
              "      <td>2</td>\n",
              "      <td>2</td>\n",
              "      <td>2</td>\n",
              "      <td>2</td>\n",
              "      <td>2</td>\n",
              "      <td>1</td>\n",
              "      <td>1</td>\n",
              "      <td>2</td>\n",
              "      <td>2</td>\n",
              "      <td>2</td>\n",
              "      <td>2</td>\n",
              "      <td>2</td>\n",
              "      <td>2</td>\n",
              "      <td>2</td>\n",
              "      <td>2</td>\n",
              "      <td>2</td>\n",
              "      <td>2</td>\n",
              "      <td>1</td>\n",
              "      <td>2</td>\n",
              "      <td>...</td>\n",
              "      <td>1</td>\n",
              "      <td>1</td>\n",
              "      <td>2</td>\n",
              "      <td>1</td>\n",
              "      <td>2</td>\n",
              "      <td>2</td>\n",
              "      <td>2</td>\n",
              "      <td>2</td>\n",
              "      <td>1</td>\n",
              "      <td>2</td>\n",
              "      <td>2</td>\n",
              "      <td>2</td>\n",
              "      <td>2</td>\n",
              "      <td>2</td>\n",
              "      <td>2</td>\n",
              "      <td>2</td>\n",
              "      <td>2</td>\n",
              "      <td>1</td>\n",
              "      <td>2</td>\n",
              "      <td>2</td>\n",
              "      <td>2</td>\n",
              "      <td>2</td>\n",
              "      <td>2</td>\n",
              "      <td>1</td>\n",
              "      <td>2</td>\n",
              "      <td>2</td>\n",
              "      <td>2</td>\n",
              "      <td>2</td>\n",
              "      <td>1</td>\n",
              "      <td>1</td>\n",
              "      <td>2</td>\n",
              "      <td>2</td>\n",
              "      <td>2</td>\n",
              "      <td>2</td>\n",
              "      <td>2</td>\n",
              "      <td>2</td>\n",
              "      <td>2</td>\n",
              "      <td>2</td>\n",
              "      <td>2</td>\n",
              "      <td>1</td>\n",
              "    </tr>\n",
              "  </tbody>\n",
              "</table>\n",
              "<p>5 rows × 10003 columns</p>\n",
              "</div>"
            ],
            "text/plain": [
              "  SAMPLE_ID  snp_0  snp_1  snp_2  ...  snp_9998  snp_9999  snp_10000  STATUS\n",
              "0    HCB181      1      0      0  ...         2         1          2       1\n",
              "1    HCB182      1      0      0  ...         2         2          2       2\n",
              "2    HCB183      1      0      0  ...         2         1          2       2\n",
              "3    HCB184      1      0      0  ...         2         1          2       2\n",
              "4    HCB185      1      0      0  ...         2         2          2       1\n",
              "\n",
              "[5 rows x 10003 columns]"
            ]
          },
          "metadata": {
            "tags": []
          },
          "execution_count": 2
        }
      ]
    },
    {
      "cell_type": "markdown",
      "metadata": {
        "id": "a0hpCYEF7o7j"
      },
      "source": [
        "### Filling values for X and y where X are the features and y is the status."
      ]
    },
    {
      "cell_type": "code",
      "metadata": {
        "colab": {
          "base_uri": "https://localhost:8080/"
        },
        "id": "ia87phVnnlFG",
        "outputId": "ece29e1a-180a-4f32-db61-aa8a8e8489be"
      },
      "source": [
        "X = dataset.drop(['STATUS', 'SAMPLE_ID'], axis=1)\n",
        "y = dataset[['STATUS']]\n",
        "X, y"
      ],
      "execution_count": 3,
      "outputs": [
        {
          "output_type": "execute_result",
          "data": {
            "text/plain": [
              "(    snp_0  snp_1  snp_2  snp_3  ...  snp_9997  snp_9998  snp_9999  snp_10000\n",
              " 0       1      0      0      1  ...         1         2         1          2\n",
              " 1       1      0      0      1  ...         1         2         2          2\n",
              " 2       1      0      0      1  ...         2         2         1          2\n",
              " 3       1      0      0      1  ...         2         2         1          2\n",
              " 4       1      0      0      1  ...         2         2         2          2\n",
              " ..    ...    ...    ...    ...  ...       ...       ...       ...        ...\n",
              " 84      1      0      0      1  ...         2         2         1          1\n",
              " 85      1      0      0      1  ...         2         2         1          2\n",
              " 86      1      0      0      1  ...         1         1         2          2\n",
              " 87      1      0      0      1  ...         1         2         1          1\n",
              " 88      1      0      0      1  ...         1         2         2          2\n",
              " \n",
              " [89 rows x 10001 columns],     STATUS\n",
              " 0        1\n",
              " 1        2\n",
              " 2        2\n",
              " 3        2\n",
              " 4        1\n",
              " ..     ...\n",
              " 84       2\n",
              " 85       2\n",
              " 86       1\n",
              " 87       1\n",
              " 88       2\n",
              " \n",
              " [89 rows x 1 columns])"
            ]
          },
          "metadata": {
            "tags": []
          },
          "execution_count": 3
        }
      ]
    },
    {
      "cell_type": "markdown",
      "metadata": {
        "id": "aEQTSLxd7u-y"
      },
      "source": [
        "### Splitting the dataset into training and testing (80 20 respectively)."
      ]
    },
    {
      "cell_type": "code",
      "metadata": {
        "id": "AAINEfeCnnCB"
      },
      "source": [
        "X_train, X_test, y_train, y_test = train_test_split(X, y, test_size=0.2, random_state=13)"
      ],
      "execution_count": 4,
      "outputs": []
    },
    {
      "cell_type": "code",
      "metadata": {
        "colab": {
          "base_uri": "https://localhost:8080/"
        },
        "id": "3teyPpD8npJG",
        "outputId": "5b56bd68-0177-4a81-b370-72861747772e"
      },
      "source": [
        "print('Training Data Shape: ', X_train.shape, y_train.shape)\n",
        "print('Testing Data Shape: ', X_test.shape, y_test.shape)"
      ],
      "execution_count": 5,
      "outputs": [
        {
          "output_type": "stream",
          "text": [
            "Training Data Shape:  (71, 10001) (71, 1)\n",
            "Testing Data Shape:  (18, 10001) (18, 1)\n"
          ],
          "name": "stdout"
        }
      ]
    },
    {
      "cell_type": "markdown",
      "metadata": {
        "id": "JwB_4WOO74LQ"
      },
      "source": [
        "### Checking the number of unique classes in the dataset. Here we can see there are a total of 2 unique classes, each having their own identity."
      ]
    },
    {
      "cell_type": "code",
      "metadata": {
        "colab": {
          "base_uri": "https://localhost:8080/"
        },
        "id": "sonFxMLenrQr",
        "outputId": "75c61b03-aaa8-404a-b1da-0555e9e7a0da"
      },
      "source": [
        "uniqueClasses = np.unique(y_train)\n",
        "totalClasses = len(uniqueClasses)\n",
        "print('Number of Unique Classes: ', totalClasses)\n",
        "print('Classes: ', uniqueClasses)"
      ],
      "execution_count": 6,
      "outputs": [
        {
          "output_type": "stream",
          "text": [
            "Number of Unique Classes:  2\n",
            "Classes:  [1 2]\n"
          ],
          "name": "stdout"
        }
      ]
    },
    {
      "cell_type": "markdown",
      "metadata": {
        "id": "hdbkfxVs7-uS"
      },
      "source": [
        "### PCA using 95% variance."
      ]
    },
    {
      "cell_type": "code",
      "metadata": {
        "colab": {
          "base_uri": "https://localhost:8080/"
        },
        "id": "X8w9Ojg8Mw3i",
        "outputId": "8facf898-b7ca-48a5-d1d9-d96e7f4c8c53"
      },
      "source": [
        "from sklearn.decomposition import PCA\n",
        "\n",
        "pca = PCA(0.95) # 95% Variance\n",
        "X_train_pca = pca.fit_transform(X_train)\n",
        "X_test_pca = pca.transform(X_test)\n",
        "\n",
        "print('Training Data Shape: ', X_train_pca.shape, y_train.shape)\n",
        "print('Testing Data Shape: ', X_test_pca.shape, y_test.shape)"
      ],
      "execution_count": 7,
      "outputs": [
        {
          "output_type": "stream",
          "text": [
            "Training Data Shape:  (71, 65) (71, 1)\n",
            "Testing Data Shape:  (18, 65) (18, 1)\n"
          ],
          "name": "stdout"
        }
      ]
    },
    {
      "cell_type": "markdown",
      "metadata": {
        "id": "-4YGFKoq8EIN"
      },
      "source": [
        "### Right now the dataset is in the format of int8 so we have to convert it to float32 before feeding it into the model."
      ]
    },
    {
      "cell_type": "code",
      "metadata": {
        "id": "kNw7k03EnxRA"
      },
      "source": [
        "X_train = X_train.astype('float32')\n",
        "X_test = X_test.astype('float32')"
      ],
      "execution_count": 8,
      "outputs": []
    },
    {
      "cell_type": "markdown",
      "metadata": {
        "id": "gCjSxvDd8Kez"
      },
      "source": [
        "### Next, we are going to one hot encode the y_train and y_test using the to_categorical function."
      ]
    },
    {
      "cell_type": "code",
      "metadata": {
        "colab": {
          "base_uri": "https://localhost:8080/"
        },
        "id": "U-FKL2s1nzyf",
        "outputId": "c8fbe82b-79b2-4299-ba65-447608740f2e"
      },
      "source": [
        "y_train = y_train - 1\n",
        "y_test = y_test - 1\n",
        "\n",
        "y_train_encoded = to_categorical(y_train, num_classes = 2)\n",
        "y_test_encoded = to_categorical(y_test, num_classes = 2)\n",
        "\n",
        "# Test Print\n",
        "y_test_encoded"
      ],
      "execution_count": 9,
      "outputs": [
        {
          "output_type": "execute_result",
          "data": {
            "text/plain": [
              "array([[1., 0.],\n",
              "       [0., 1.],\n",
              "       [0., 1.],\n",
              "       [1., 0.],\n",
              "       [0., 1.],\n",
              "       [0., 1.],\n",
              "       [1., 0.],\n",
              "       [1., 0.],\n",
              "       [0., 1.],\n",
              "       [1., 0.],\n",
              "       [1., 0.],\n",
              "       [1., 0.],\n",
              "       [1., 0.],\n",
              "       [0., 1.],\n",
              "       [1., 0.],\n",
              "       [1., 0.],\n",
              "       [0., 1.],\n",
              "       [0., 1.]], dtype=float32)"
            ]
          },
          "metadata": {
            "tags": []
          },
          "execution_count": 9
        }
      ]
    },
    {
      "cell_type": "markdown",
      "metadata": {
        "id": "vskMgxsb8sra"
      },
      "source": [
        "### Reshaping the dataset so it could be feeded into Conv1D layers."
      ]
    },
    {
      "cell_type": "code",
      "metadata": {
        "id": "wOMBREd_OXMG"
      },
      "source": [
        "X_train_pca = X_train_pca.reshape(-1, 65, 1)\n",
        "X_test_pca = X_test_pca.reshape(-1, 65, 1)"
      ],
      "execution_count": 10,
      "outputs": []
    },
    {
      "cell_type": "code",
      "metadata": {
        "colab": {
          "base_uri": "https://localhost:8080/"
        },
        "id": "1wU5gQUMPZ2T",
        "outputId": "da9b6721-3262-4064-d352-57fa93af5256"
      },
      "source": [
        "X_train_pca.shape, X_test_pca.shape"
      ],
      "execution_count": 11,
      "outputs": [
        {
          "output_type": "execute_result",
          "data": {
            "text/plain": [
              "((71, 65, 1), (18, 65, 1))"
            ]
          },
          "metadata": {
            "tags": []
          },
          "execution_count": 11
        }
      ]
    },
    {
      "cell_type": "markdown",
      "metadata": {
        "id": "LF1ySn6c87BZ"
      },
      "source": [
        "### Now, we are going to split the training dataset into training and validation dataset. I have divided train and validation into 80 20 respectively."
      ]
    },
    {
      "cell_type": "code",
      "metadata": {
        "id": "6nkFECkPn18S"
      },
      "source": [
        "X_train_pca, X_valid, train_label, valid_label = train_test_split(X_train_pca, y_train_encoded, test_size=0.2, random_state=13)"
      ],
      "execution_count": 12,
      "outputs": []
    },
    {
      "cell_type": "code",
      "metadata": {
        "colab": {
          "base_uri": "https://localhost:8080/"
        },
        "id": "NdN_W6VOn6LE",
        "outputId": "a5197ff0-aef3-45b4-ac25-58f20657d216"
      },
      "source": [
        "X_train_pca.shape, X_valid.shape, train_label.shape, valid_label.shape"
      ],
      "execution_count": 13,
      "outputs": [
        {
          "output_type": "execute_result",
          "data": {
            "text/plain": [
              "((56, 65, 1), (15, 65, 1), (56, 2), (15, 2))"
            ]
          },
          "metadata": {
            "tags": []
          },
          "execution_count": 13
        }
      ]
    },
    {
      "cell_type": "markdown",
      "metadata": {
        "id": "g94YrLxi9DLu"
      },
      "source": [
        "### This will be the part where modelling the data starts. I have used the batch size of 64 and 20 epochs."
      ]
    },
    {
      "cell_type": "code",
      "metadata": {
        "id": "z-TpFJedoHma"
      },
      "source": [
        "batch_size = 64\n",
        "epochs = 20"
      ],
      "execution_count": 14,
      "outputs": []
    },
    {
      "cell_type": "markdown",
      "metadata": {
        "id": "k8R5pkER9LIf"
      },
      "source": [
        "### First we add our first convolutional layer using Conv1D. We are using Conv1D here because we are dealing with non-image dataset. Next we add the LeakyReLU because it's going to help the network learn non-linear decision boundary. Next would be the MaxPooling1D layer and then the last layer would be the Dense layer using the softmax function. After that would be the Dropout layer which helps us avoiding the problem of overfitting. "
      ]
    },
    {
      "cell_type": "code",
      "metadata": {
        "id": "dJQ6XIP-oIH7"
      },
      "source": [
        "dna_model = Sequential()\n",
        "dna_model.add(Conv1D(64, kernel_size=3, activation='relu', input_shape=(65, 1), padding='same'))\n",
        "dna_model.add(MaxPooling1D(2, padding='same'))\n",
        "dna_model.add(Dropout(0.4))\n",
        "dna_model.add(Flatten())\n",
        "dna_model.add(Dense(32, activation='relu'))\n",
        "dna_model.add(LeakyReLU(alpha=0.1))\n",
        "dna_model.add(Dropout(0.3))\n",
        "dna_model.add(Dense(2, activation='relu'))"
      ],
      "execution_count": 15,
      "outputs": []
    },
    {
      "cell_type": "markdown",
      "metadata": {
        "id": "6YmRwCqK9PlY"
      },
      "source": [
        "### Now we are going to compile our model that we just made using Adam Optimizer as the optimizer and Categorical CrossEntropy as the loss function which is often used as a loss function for multi-class classification."
      ]
    },
    {
      "cell_type": "code",
      "metadata": {
        "id": "_qUDiFl7oKr2"
      },
      "source": [
        "dna_model.compile(loss=keras.losses.binary_crossentropy, optimizer=keras.optimizers.Adam(), metrics=['accuracy'])"
      ],
      "execution_count": 16,
      "outputs": []
    },
    {
      "cell_type": "code",
      "metadata": {
        "colab": {
          "base_uri": "https://localhost:8080/"
        },
        "id": "LXfxPZj7oN9F",
        "outputId": "0409550a-5ae3-4b96-9bbe-0be27f902c49"
      },
      "source": [
        "dna_model.summary()"
      ],
      "execution_count": 17,
      "outputs": [
        {
          "output_type": "stream",
          "text": [
            "Model: \"sequential\"\n",
            "_________________________________________________________________\n",
            "Layer (type)                 Output Shape              Param #   \n",
            "=================================================================\n",
            "conv1d (Conv1D)              (None, 65, 64)            256       \n",
            "_________________________________________________________________\n",
            "max_pooling1d (MaxPooling1D) (None, 33, 64)            0         \n",
            "_________________________________________________________________\n",
            "dropout (Dropout)            (None, 33, 64)            0         \n",
            "_________________________________________________________________\n",
            "flatten (Flatten)            (None, 2112)              0         \n",
            "_________________________________________________________________\n",
            "dense (Dense)                (None, 32)                67616     \n",
            "_________________________________________________________________\n",
            "leaky_re_lu (LeakyReLU)      (None, 32)                0         \n",
            "_________________________________________________________________\n",
            "dropout_1 (Dropout)          (None, 32)                0         \n",
            "_________________________________________________________________\n",
            "dense_1 (Dense)              (None, 2)                 66        \n",
            "=================================================================\n",
            "Total params: 67,938\n",
            "Trainable params: 67,938\n",
            "Non-trainable params: 0\n",
            "_________________________________________________________________\n"
          ],
          "name": "stdout"
        }
      ]
    },
    {
      "cell_type": "markdown",
      "metadata": {
        "id": "XvKlhQbK9RBW"
      },
      "source": [
        "### Now we fit the model."
      ]
    },
    {
      "cell_type": "code",
      "metadata": {
        "colab": {
          "base_uri": "https://localhost:8080/"
        },
        "id": "fVYFsSTwoQXy",
        "outputId": "4201f9df-f723-4a74-de9a-7c825e44751d"
      },
      "source": [
        "dna_train = dna_model.fit(X_train_pca, train_label, batch_size=batch_size, epochs=epochs, verbose=1, validation_data=(X_valid, valid_label))"
      ],
      "execution_count": 18,
      "outputs": [
        {
          "output_type": "stream",
          "text": [
            "Epoch 1/20\n",
            "1/1 [==============================] - 13s 13s/step - loss: 6.2180 - accuracy: 0.4286 - val_loss: 5.6011 - val_accuracy: 0.4000\n",
            "Epoch 2/20\n",
            "1/1 [==============================] - 0s 34ms/step - loss: 5.3107 - accuracy: 0.5357 - val_loss: 4.6715 - val_accuracy: 0.4000\n",
            "Epoch 3/20\n",
            "1/1 [==============================] - 0s 23ms/step - loss: 4.4523 - accuracy: 0.5893 - val_loss: 6.5343 - val_accuracy: 0.4000\n",
            "Epoch 4/20\n",
            "1/1 [==============================] - 0s 23ms/step - loss: 5.0677 - accuracy: 0.5179 - val_loss: 6.3168 - val_accuracy: 0.4000\n",
            "Epoch 5/20\n",
            "1/1 [==============================] - 0s 28ms/step - loss: 4.3526 - accuracy: 0.5893 - val_loss: 5.4771 - val_accuracy: 0.4000\n",
            "Epoch 6/20\n",
            "1/1 [==============================] - 0s 23ms/step - loss: 4.4900 - accuracy: 0.6071 - val_loss: 5.0996 - val_accuracy: 0.4667\n",
            "Epoch 7/20\n",
            "1/1 [==============================] - 0s 22ms/step - loss: 3.6247 - accuracy: 0.6786 - val_loss: 4.6835 - val_accuracy: 0.4667\n",
            "Epoch 8/20\n",
            "1/1 [==============================] - 0s 22ms/step - loss: 3.8687 - accuracy: 0.7500 - val_loss: 4.2742 - val_accuracy: 0.4667\n",
            "Epoch 9/20\n",
            "1/1 [==============================] - 0s 24ms/step - loss: 3.9456 - accuracy: 0.6607 - val_loss: 4.9856 - val_accuracy: 0.4667\n",
            "Epoch 10/20\n",
            "1/1 [==============================] - 0s 22ms/step - loss: 3.6814 - accuracy: 0.7143 - val_loss: 4.1348 - val_accuracy: 0.4667\n",
            "Epoch 11/20\n",
            "1/1 [==============================] - 0s 25ms/step - loss: 3.1933 - accuracy: 0.7857 - val_loss: 4.2661 - val_accuracy: 0.5333\n",
            "Epoch 12/20\n",
            "1/1 [==============================] - 0s 23ms/step - loss: 3.8529 - accuracy: 0.6607 - val_loss: 5.0212 - val_accuracy: 0.4667\n",
            "Epoch 13/20\n",
            "1/1 [==============================] - 0s 23ms/step - loss: 2.8886 - accuracy: 0.6964 - val_loss: 5.8871 - val_accuracy: 0.5333\n",
            "Epoch 14/20\n",
            "1/1 [==============================] - 0s 25ms/step - loss: 3.0004 - accuracy: 0.6964 - val_loss: 5.5718 - val_accuracy: 0.5333\n",
            "Epoch 15/20\n",
            "1/1 [==============================] - 0s 21ms/step - loss: 4.1665 - accuracy: 0.6964 - val_loss: 5.8718 - val_accuracy: 0.5333\n",
            "Epoch 16/20\n",
            "1/1 [==============================] - 0s 22ms/step - loss: 3.1825 - accuracy: 0.6964 - val_loss: 5.5476 - val_accuracy: 0.6000\n",
            "Epoch 17/20\n",
            "1/1 [==============================] - 0s 24ms/step - loss: 3.3890 - accuracy: 0.6786 - val_loss: 5.9902 - val_accuracy: 0.5333\n",
            "Epoch 18/20\n",
            "1/1 [==============================] - 0s 26ms/step - loss: 4.6770 - accuracy: 0.5536 - val_loss: 6.8552 - val_accuracy: 0.4000\n",
            "Epoch 19/20\n",
            "1/1 [==============================] - 0s 24ms/step - loss: 4.3101 - accuracy: 0.5893 - val_loss: 6.8960 - val_accuracy: 0.4667\n",
            "Epoch 20/20\n",
            "1/1 [==============================] - 0s 22ms/step - loss: 3.8740 - accuracy: 0.6429 - val_loss: 6.9584 - val_accuracy: 0.4000\n"
          ],
          "name": "stdout"
        }
      ]
    },
    {
      "cell_type": "markdown",
      "metadata": {
        "id": "-x41bLBC9W-3"
      },
      "source": [
        "### We evaluate the model to see how our model works on the testing dataset. The results that I've got is quite bad. The total loss is 4.5002 and the accuracy of 0.4444."
      ]
    },
    {
      "cell_type": "code",
      "metadata": {
        "colab": {
          "base_uri": "https://localhost:8080/"
        },
        "id": "C8FoxMk7oSlG",
        "outputId": "064db759-90fe-447d-861a-a517a0359fe8"
      },
      "source": [
        "evaluation = dna_model.evaluate(X_test_pca, y_test_encoded, verbose=1)"
      ],
      "execution_count": 19,
      "outputs": [
        {
          "output_type": "stream",
          "text": [
            "1/1 [==============================] - 0s 13ms/step - loss: 4.5002 - accuracy: 0.4444\n"
          ],
          "name": "stdout"
        }
      ]
    },
    {
      "cell_type": "code",
      "metadata": {
        "colab": {
          "base_uri": "https://localhost:8080/"
        },
        "id": "JWSBqP3LobDf",
        "outputId": "3f43185f-0dff-4cd4-f2a9-8252a4826a4b"
      },
      "source": [
        "print('Test Loss: ', evaluation[0])\n",
        "print('Test Accuracy: ', evaluation[1])"
      ],
      "execution_count": 20,
      "outputs": [
        {
          "output_type": "stream",
          "text": [
            "Test Loss:  4.500186443328857\n",
            "Test Accuracy:  0.4444444477558136\n"
          ],
          "name": "stdout"
        }
      ]
    },
    {
      "cell_type": "markdown",
      "metadata": {
        "id": "qCoFjdoQ9rl8"
      },
      "source": [
        "### Now let's plot the loss and accuracy plots for training and validation to see the results visually.\n"
      ]
    },
    {
      "cell_type": "code",
      "metadata": {
        "colab": {
          "base_uri": "https://localhost:8080/",
          "height": 545
        },
        "id": "wCu0DmdFUogL",
        "outputId": "01a508c9-29bc-4d91-b766-aa277eb996f8"
      },
      "source": [
        "accuracy = dna_train.history['accuracy']\n",
        "val_accuracy = dna_train.history['val_accuracy']\n",
        "loss = dna_train.history['loss']\n",
        "val_loss = dna_train.history['val_loss']\n",
        "\n",
        "epochs = range(len(accuracy))\n",
        "plt.plot(epochs, accuracy, 'bo', label='Training Accuracy')\n",
        "plt.plot(epochs, val_accuracy, 'b', label='Validation Accuracy')\n",
        "plt.title('Training & Validation Accuracy')\n",
        "plt.legend()\n",
        "plt.figure()\n",
        "plt.plot(epochs, loss, 'bo', label='Training Loss')\n",
        "plt.plot(epochs, val_loss, 'b', label='Validation Loss')\n",
        "plt.title('Training & Validation Loss')\n",
        "plt.legend()\n",
        "plt.show()"
      ],
      "execution_count": 21,
      "outputs": [
        {
          "output_type": "display_data",
          "data": {
            "image/png": "[encoded data removed]",
            "text/plain": [
              "<Figure size 432x288 with 1 Axes>"
            ]
          },
          "metadata": {
            "tags": [],
            "needs_background": "light"
          }
        },
        {
          "output_type": "display_data",
          "data": {
            "image/png": "[encoded data removed]",
            "text/plain": [
              "<Figure size 432x288 with 1 Axes>"
            ]
          },
          "metadata": {
            "tags": [],
            "needs_background": "light"
          }
        }
      ]
    },
    {
      "cell_type": "markdown",
      "metadata": {
        "id": "r1dyFU3v9v64"
      },
      "source": [
        "### Now we predict our model."
      ]
    },
    {
      "cell_type": "code",
      "metadata": {
        "id": "lDPdYjz8U1uy"
      },
      "source": [
        "predicted = dna_model.predict(X_test_pca)\n",
        "predicted = np.argmax(np.round(predicted), axis=1)"
      ],
      "execution_count": 22,
      "outputs": []
    },
    {
      "cell_type": "code",
      "metadata": {
        "colab": {
          "base_uri": "https://localhost:8080/"
        },
        "id": "Uhsqmo58U45s",
        "outputId": "bbe2a0ba-5993-4404-e57b-cb4d8bf12ec6"
      },
      "source": [
        "from sklearn.metrics import classification_report\n",
        "class_number = [\"Class {}\".format(i) for i in range(2)]\n",
        "print(classification_report(y_test, predicted, target_names=class_number))"
      ],
      "execution_count": 23,
      "outputs": [
        {
          "output_type": "stream",
          "text": [
            "              precision    recall  f1-score   support\n",
            "\n",
            "     Class 0       0.56      1.00      0.71        10\n",
            "     Class 1       0.00      0.00      0.00         8\n",
            "\n",
            "    accuracy                           0.56        18\n",
            "   macro avg       0.28      0.50      0.36        18\n",
            "weighted avg       0.31      0.56      0.40        18\n",
            "\n"
          ],
          "name": "stdout"
        },
        {
          "output_type": "stream",
          "text": [
            "/usr/local/lib/python3.7/dist-packages/sklearn/metrics/_classification.py:1272: UndefinedMetricWarning: Precision and F-score are ill-defined and being set to 0.0 in labels with no predicted samples. Use `zero_division` parameter to control this behavior.\n",
            "  _warn_prf(average, modifier, msg_start, len(result))\n"
          ],
          "name": "stderr"
        }
      ]
    }
  ]
}